{
 "cells": [
  {
   "cell_type": "code",
   "execution_count": 4,
   "metadata": {},
   "outputs": [],
   "source": [
    "from tensorflow.keras.preprocessing.image import ImageDataGenerator\n",
    "from tensorflow.keras.applications import MobileNetV2\n",
    "from tensorflow.keras.layers import AveragePooling2D\n",
    "from tensorflow.keras.layers import Dropout\n",
    "from tensorflow.keras.layers import Dense\n",
    "from tensorflow.keras.layers import Input\n",
    "from tensorflow.keras.models import Model\n",
    "from tensorflow.keras.layers import Flatten\n",
    "from tensorflow.keras.optimizers import Adam\n",
    "from tensorflow.keras.applications.mobilenet_v2 import preprocess_input\n",
    "from tensorflow.keras.preprocessing.image import img_to_array\n",
    "from tensorflow.keras.preprocessing.image import load_img\n",
    "from tensorflow.keras.utils import to_categorical\n",
    "from sklearn.preprocessing import LabelBinarizer\n",
    "from sklearn.model_selection import train_test_split\n",
    "from sklearn.metrics import classification_report\n",
    "import matplotlib.pyplot as plt\n",
    "import numpy as np\n",
    "import os"
   ]
  },
  {
   "cell_type": "code",
   "execution_count": 5,
   "metadata": {},
   "outputs": [
    {
     "name": "stderr",
     "output_type": "stream",
     "text": [
      "C:\\Users\\MOSTAFA MAHMOUD\\anaconda3\\lib\\site-packages\\PIL\\Image.py:951: UserWarning: Palette images with Transparency expressed in bytes should be converted to RGBA images\n",
      "  warnings.warn(\n"
     ]
    }
   ],
   "source": [
    "INIT_LG = 1e-4\n",
    "epochs = 20\n",
    "bs = 32\n",
    "\n",
    "directory = r\"C:\\Users\\MOSTAFA MAHMOUD\\Desktop\\Mask Detection\\dataset\"\n",
    "categories = [\"with_mask\",\"without_mask\"]\n",
    "\n",
    "data=[]\n",
    "label = []\n",
    "\n",
    "for cate in categories :\n",
    "    path= os.path.join(directory,cate)\n",
    "    for img in os.listdir(path):\n",
    "        img_path = os.path.join(path,img)\n",
    "        image = load_img(img_path, target_size=(224,224))\n",
    "        image = img_to_array(image)\n",
    "        image = preprocess_input(image)\n",
    "        \n",
    "        data.append(image)\n",
    "        label.append(cate)"
   ]
  },
  {
   "cell_type": "code",
   "execution_count": 6,
   "metadata": {},
   "outputs": [],
   "source": [
    "lb = LabelBinarizer()\n",
    "label = lb.fit_transform(label)\n",
    "label = to_categorical(label)\n",
    "\n",
    "data = np.array(data)\n",
    "label = np.array(label)\n",
    "\n",
    "(trainX, testX, trainY, testY) = train_test_split(data , label , test_size=0.20 , stratify=label , random_state=42)"
   ]
  },
  {
   "cell_type": "code",
   "execution_count": 7,
   "metadata": {},
   "outputs": [],
   "source": [
    "aug = ImageDataGenerator(\n",
    "    rotation_range=20,\n",
    "    zoom_range=0.15,\n",
    "    width_shift_range=0.2,\n",
    "    height_shift_range=0.2,\n",
    "    shear_range=0.15,\n",
    "    horizontal_flip=True,\n",
    "    fill_mode=\"nearest\"\n",
    ")\n"
   ]
  },
  {
   "cell_type": "code",
   "execution_count": 8,
   "metadata": {},
   "outputs": [
    {
     "name": "stdout",
     "output_type": "stream",
     "text": [
      "WARNING:tensorflow:`input_shape` is undefined or non-square, or `rows` is not in [96, 128, 160, 192, 224]. Weights for input shape (224, 224) will be loaded as the default.\n"
     ]
    }
   ],
   "source": [
    "beasModel = MobileNetV2(weights=\"imagenet\",include_top=False,\n",
    "                       input_tensor=Input(shape=(224,224,3)))\n",
    "headmodel = beasModel.output\n",
    "headmodel = AveragePooling2D(pool_size=(7,7))(headmodel)\n",
    "headmodel = Flatten(name=\"flatten\")(headmodel)\n",
    "headmodel = Dense(128, activation=\"relu\")(headmodel)\n",
    "headmodel = Dropout(0.5)(headmodel)\n",
    "headmodel = Dense(2, activation=\"softmax\")(headmodel)\n",
    "\n",
    "model = Model(inputs=beasModel.input, outputs=headmodel)"
   ]
  },
  {
   "cell_type": "code",
   "execution_count": 9,
   "metadata": {},
   "outputs": [
    {
     "name": "stderr",
     "output_type": "stream",
     "text": [
      "C:\\Users\\MOSTAFA MAHMOUD\\anaconda3\\lib\\site-packages\\tensorflow\\python\\keras\\optimizer_v2\\optimizer_v2.py:374: UserWarning: The `lr` argument is deprecated, use `learning_rate` instead.\n",
      "  warnings.warn(\n"
     ]
    },
    {
     "name": "stdout",
     "output_type": "stream",
     "text": [
      "Epoch 1/10\n",
      "95/95 [==============================] - 383s 4s/step - loss: 0.1909 - accuracy: 0.9394 - val_loss: 0.8527 - val_accuracy: 0.8070\n",
      "Epoch 2/10\n",
      "95/95 [==============================] - 371s 4s/step - loss: 0.0282 - accuracy: 0.9918 - val_loss: 0.5465 - val_accuracy: 0.8840\n",
      "Epoch 3/10\n",
      "95/95 [==============================] - 355s 4s/step - loss: 0.0170 - accuracy: 0.9941 - val_loss: 1.4221 - val_accuracy: 0.8214\n",
      "Epoch 4/10\n",
      "95/95 [==============================] - 355s 4s/step - loss: 0.0163 - accuracy: 0.9954 - val_loss: 0.7130 - val_accuracy: 0.8787\n",
      "Epoch 5/10\n",
      "95/95 [==============================] - 357s 4s/step - loss: 0.0108 - accuracy: 0.9967 - val_loss: 0.5767 - val_accuracy: 0.9061\n",
      "Epoch 6/10\n",
      "95/95 [==============================] - 367s 4s/step - loss: 0.0103 - accuracy: 0.9974 - val_loss: 0.7363 - val_accuracy: 0.8970\n",
      "Epoch 7/10\n",
      "95/95 [==============================] - 363s 4s/step - loss: 0.0045 - accuracy: 0.9980 - val_loss: 0.3396 - val_accuracy: 0.9400\n",
      "Epoch 8/10\n",
      "95/95 [==============================] - 363s 4s/step - loss: 0.0110 - accuracy: 0.9967 - val_loss: 0.0900 - val_accuracy: 0.9791\n",
      "Epoch 9/10\n",
      "95/95 [==============================] - 366s 4s/step - loss: 0.0067 - accuracy: 0.9980 - val_loss: 0.1046 - val_accuracy: 0.9778\n",
      "Epoch 10/10\n",
      "95/95 [==============================] - 367s 4s/step - loss: 0.0057 - accuracy: 0.9984 - val_loss: 0.0554 - val_accuracy: 0.9870\n"
     ]
    }
   ],
   "source": [
    "for layer in beasModel.layers:\n",
    "    layer.trinable=False\n",
    "\n",
    "opt = Adam(lr=INIT_LG , decay=INIT_LG/ epochs)\n",
    "model.compile(loss=\"binary_crossentropy\",optimizer=opt,metrics=[\"accuracy\"])\n",
    "\n",
    "H = model.fit(\n",
    "    aug.flow(trainX, trainY, batch_size=bs),\n",
    "    steps_per_epoch=len(trainX) // bs,\n",
    "    validation_data=(testX,testY),\n",
    "    validation_steps=len(testX) //bs,\n",
    "    epochs=10\n",
    ")"
   ]
  },
  {
   "cell_type": "code",
   "execution_count": 14,
   "metadata": {},
   "outputs": [],
   "source": [
    "predIxs = model.predict(testX, batch_size=bs)\n",
    "\n",
    "predIxs = np.argmax(predIxs, axis=1)"
   ]
  },
  {
   "cell_type": "code",
   "execution_count": 17,
   "metadata": {},
   "outputs": [
    {
     "name": "stdout",
     "output_type": "stream",
     "text": [
      "              precision    recall  f1-score   support\n",
      "\n",
      "   with_mask       1.00      0.97      0.99       383\n",
      "without_mask       0.97      1.00      0.99       384\n",
      "\n",
      "    accuracy                           0.99       767\n",
      "   macro avg       0.99      0.99      0.99       767\n",
      "weighted avg       0.99      0.99      0.99       767\n",
      "\n"
     ]
    }
   ],
   "source": [
    "print(classification_report(testY.argmax(axis=1),predIxs,target_names=lb.classes_))"
   ]
  },
  {
   "cell_type": "code",
   "execution_count": 18,
   "metadata": {},
   "outputs": [
    {
     "name": "stderr",
     "output_type": "stream",
     "text": [
      "C:\\Users\\MOSTAFA MAHMOUD\\anaconda3\\lib\\site-packages\\tensorflow\\python\\keras\\utils\\generic_utils.py:494: CustomMaskWarning: Custom mask layers require a config and must override get_config. When loading, the custom mask layer must be passed to the custom_objects argument.\n",
      "  warnings.warn('Custom mask layers require a config and must override '\n"
     ]
    }
   ],
   "source": [
    "model.save(\"mask_det.model\",save_format=\"h5\")"
   ]
  }
 ],
 "metadata": {
  "kernelspec": {
   "display_name": "Python 3",
   "language": "python",
   "name": "python3"
  },
  "language_info": {
   "codemirror_mode": {
    "name": "ipython",
    "version": 3
   },
   "file_extension": ".py",
   "mimetype": "text/x-python",
   "name": "python",
   "nbconvert_exporter": "python",
   "pygments_lexer": "ipython3",
   "version": "3.8.5"
  }
 },
 "nbformat": 4,
 "nbformat_minor": 4
}
